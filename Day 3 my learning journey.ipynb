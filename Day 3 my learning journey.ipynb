{
 "cells": [
  {
   "cell_type": "markdown",
   "id": "6aa3b4be",
   "metadata": {},
   "source": [
    "\n",
    "# Input Function\n"
   ]
  },
  {
   "cell_type": "code",
   "execution_count": 1,
   "id": "31be03f6",
   "metadata": {},
   "outputs": [
    {
     "name": "stdout",
     "output_type": "stream",
     "text": [
      "What is your name? Abu Saleh Md. Nakib Uddin\n"
     ]
    }
   ],
   "source": [
    "name = input(\"What is your name? \")"
   ]
  },
  {
   "cell_type": "code",
   "execution_count": 3,
   "id": "90fb250c",
   "metadata": {},
   "outputs": [
    {
     "name": "stdout",
     "output_type": "stream",
     "text": [
      " Hi Abu Saleh Md. Nakib Uddin\n"
     ]
    }
   ],
   "source": [
    "print(\" Hi\",name)"
   ]
  },
  {
   "cell_type": "code",
   "execution_count": 13,
   "id": "01bb8dda",
   "metadata": {},
   "outputs": [
    {
     "name": "stdout",
     "output_type": "stream",
     "text": [
      " Give a Value888888888\n"
     ]
    }
   ],
   "source": [
    "x = input(\" Give a Value\")"
   ]
  },
  {
   "cell_type": "code",
   "execution_count": null,
   "id": "65de1a1d",
   "metadata": {},
   "outputs": [],
   "source": [
    "type(x)"
   ]
  },
  {
   "cell_type": "code",
   "execution_count": 7,
   "id": "293e6aab",
   "metadata": {},
   "outputs": [],
   "source": [
    "Value = int(x)"
   ]
  },
  {
   "cell_type": "code",
   "execution_count": 8,
   "id": "6cb7faec",
   "metadata": {},
   "outputs": [
    {
     "name": "stdout",
     "output_type": "stream",
     "text": [
      "<class 'str'>\n"
     ]
    }
   ],
   "source": [
    "print(type(x))"
   ]
  },
  {
   "cell_type": "code",
   "execution_count": 9,
   "id": "085cb679",
   "metadata": {},
   "outputs": [
    {
     "name": "stdout",
     "output_type": "stream",
     "text": [
      "<class 'int'>\n"
     ]
    }
   ],
   "source": [
    "print(type(Value))"
   ]
  },
  {
   "cell_type": "code",
   "execution_count": 10,
   "id": "469ac35e",
   "metadata": {},
   "outputs": [],
   "source": [
    "y = float(x)"
   ]
  },
  {
   "cell_type": "code",
   "execution_count": 11,
   "id": "2dfcc4de",
   "metadata": {},
   "outputs": [
    {
     "name": "stdout",
     "output_type": "stream",
     "text": [
      "1000.0\n"
     ]
    }
   ],
   "source": [
    "print(y)"
   ]
  },
  {
   "cell_type": "code",
   "execution_count": 12,
   "id": "7429bfc5",
   "metadata": {},
   "outputs": [
    {
     "data": {
      "text/plain": [
       "float"
      ]
     },
     "execution_count": 12,
     "metadata": {},
     "output_type": "execute_result"
    }
   ],
   "source": [
    "type(y)"
   ]
  },
  {
   "cell_type": "markdown",
   "id": "183c92a1",
   "metadata": {},
   "source": [
    "# Python String Method"
   ]
  },
  {
   "cell_type": "code",
   "execution_count": 14,
   "id": "45eb0bc4",
   "metadata": {},
   "outputs": [
    {
     "data": {
      "text/plain": [
       "1"
      ]
     },
     "execution_count": 14,
     "metadata": {},
     "output_type": "execute_result"
    }
   ],
   "source": [
    "data = 'Data science is fun'\n",
    "data.count(\"is\")"
   ]
  },
  {
   "cell_type": "code",
   "execution_count": 16,
   "id": "f0fe74c0",
   "metadata": {},
   "outputs": [
    {
     "data": {
      "text/plain": [
       "'                                        Data science is fun                                         '"
      ]
     },
     "execution_count": 16,
     "metadata": {},
     "output_type": "execute_result"
    }
   ],
   "source": [
    "data.center(100)"
   ]
  },
  {
   "cell_type": "code",
   "execution_count": 17,
   "id": "d764c528",
   "metadata": {},
   "outputs": [
    {
     "data": {
      "text/plain": [
       "'Data science is pathetic'"
      ]
     },
     "execution_count": 17,
     "metadata": {},
     "output_type": "execute_result"
    }
   ],
   "source": [
    "data.replace(\"fun\",\"pathetic\")"
   ]
  },
  {
   "cell_type": "code",
   "execution_count": 19,
   "id": "38114e6a",
   "metadata": {},
   "outputs": [],
   "source": [
    "x =data.split()"
   ]
  },
  {
   "cell_type": "code",
   "execution_count": 20,
   "id": "11e3dff4",
   "metadata": {},
   "outputs": [
    {
     "data": {
      "text/plain": [
       "['Data', 'science', 'is', 'fun']"
      ]
     },
     "execution_count": 20,
     "metadata": {},
     "output_type": "execute_result"
    }
   ],
   "source": [
    "x"
   ]
  },
  {
   "cell_type": "code",
   "execution_count": 21,
   "id": "3eed18be",
   "metadata": {},
   "outputs": [
    {
     "data": {
      "text/plain": [
       "'science'"
      ]
     },
     "execution_count": 21,
     "metadata": {},
     "output_type": "execute_result"
    }
   ],
   "source": [
    "x[1]"
   ]
  },
  {
   "cell_type": "code",
   "execution_count": 23,
   "id": "8296b040",
   "metadata": {},
   "outputs": [
    {
     "data": {
      "text/plain": [
       "'Data science is fu'"
      ]
     },
     "execution_count": 23,
     "metadata": {},
     "output_type": "execute_result"
    }
   ],
   "source": [
    "data[0:-1]"
   ]
  },
  {
   "cell_type": "code",
   "execution_count": 26,
   "id": "104413a7",
   "metadata": {},
   "outputs": [
    {
     "name": "stdout",
     "output_type": "stream",
     "text": [
      "Data science is fun the\n"
     ]
    }
   ],
   "source": [
    "print(\"Data science is {} the\".format(x[3]))"
   ]
  },
  {
   "cell_type": "code",
   "execution_count": null,
   "id": "00afe325",
   "metadata": {},
   "outputs": [],
   "source": []
  }
 ],
 "metadata": {
  "kernelspec": {
   "display_name": "Python 3 (ipykernel)",
   "language": "python",
   "name": "python3"
  },
  "language_info": {
   "codemirror_mode": {
    "name": "ipython",
    "version": 3
   },
   "file_extension": ".py",
   "mimetype": "text/x-python",
   "name": "python",
   "nbconvert_exporter": "python",
   "pygments_lexer": "ipython3",
   "version": "3.9.7"
  }
 },
 "nbformat": 4,
 "nbformat_minor": 5
}
